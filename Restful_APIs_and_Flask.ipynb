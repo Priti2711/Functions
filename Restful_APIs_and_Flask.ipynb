{
  "nbformat": 4,
  "nbformat_minor": 0,
  "metadata": {
    "colab": {
      "provenance": []
    },
    "kernelspec": {
      "name": "python3",
      "display_name": "Python 3"
    },
    "language_info": {
      "name": "python"
    }
  },
  "cells": [
    {
      "cell_type": "code",
      "execution_count": null,
      "metadata": {
        "id": "5-1WG2_UutTw"
      },
      "outputs": [],
      "source": []
    },
    {
      "cell_type": "markdown",
      "source": [
        "Ques. 1 : What is a RESTful API?\n",
        "\n",
        "   - A RESTful API, or REST API, is a way for computer systems to exchange information over the internet. It's based on the Representational State Transfer (REST) architectural style, which uses standard HTTP methods (like GET, POST, PUT, DELETE) to interact with resources. Essentially, it provides a set of rules for how clients and servers should communicate when accessing and manipulating data.\n",
        "\n",
        "\n",
        "Ques. 2 : Explain the concept of API specification.\n",
        "\n",
        "  - An API specification is a formal document that outlines how an API should function and interact with other systems. It acts as a blueprint, defining the structure, data formats, and behavior of the API. This allows developers to understand how to use the API without needing to see the underlying code or implementation details.\n",
        "\n",
        "\n",
        "Ques. 3 : What is Flask, and why is it popular for building APIs?\n",
        "\n",
        "  - Flask is a lightweight micro web framework in Python, well-suited for building RESTful APIs due to its flexibility and simplicity. Its popularity stems from being easy to learn, maintain, and extend. Flask is often preferred for API development because it provides a streamlined approach to building web applications and APIs without unnecessary overhead.\n",
        "\n",
        "\n",
        "Ques. 4 :  What is routing in Flask?\n",
        "\n",
        "   - In Flask, routing is the mechanism that maps specific URLs to corresponding functions, known as view functions. When a user accesses a particular URL, Flask's routing system directs the request to the appropriate view function, which then generates the response.\n",
        "\n",
        "\n",
        "Ques. 5 : How do you create a simple Flask application?\n",
        "\n",
        "   -  1. Installation:\n",
        "\n",
        "     Make sure you have Python installed.\n",
        "\n",
        "     Open your terminal or command prompt and run:\n",
        "\n",
        "     code : pip install Flask\n",
        "\n",
        "     2. Create a Project Folder:\n",
        "\n",
        "      Create a new directory for your project, for example:\n",
        "\n",
        "      mkdir my_flask_app\n",
        "      cd my_flask_app\n",
        "\n",
        "     3. Create the main application file:\n",
        "\n",
        "     Inside the project directory, create a file named app.py (or any name you prefer).\n",
        "\n",
        "     Open app.py with a code editor and add the following code:\n",
        "\n",
        "     from flask import Flask\n",
        "\n",
        "     app = Flask(__name__)\n",
        "\n",
        "     @app.route('/')\n",
        "     def hello_world():\n",
        "         return 'Hello, Flask World!'\n",
        "\n",
        "     if __name__ == '__main__':\n",
        "         app.run(debug=True)\n",
        "\n",
        "    \n",
        "    4. Run the Application:\n",
        "      \n",
        "      In your terminal, inside the project directory, run:\n",
        "\n",
        "      python app.py\n",
        "\n",
        "    5. This will start the development server. You will see an output similar to:\n",
        "\n",
        "     * Running on http://127.0.0.1:5000/\n",
        "     * Debug mode: on\n",
        "\n",
        "\n",
        "Ques. 6 : What are HTTP methods used in RESTful APIs?\n",
        "\n",
        "  - In RESTful APIs, the primary HTTP methods used for interacting with resources are GET, POST, PUT, PATCH, and DELETE. These methods correspond to the CRUD operations of Create, Read, Update, and Delete. Other methods exist, but these are the most frequently employed.\n",
        "\n",
        "\n",
        "Ques. 7 : M What is the purpose of the @app.route() decorator in Flask?\n",
        "\n",
        "  - The @app.route() decorator in Flask serves as a crucial mechanism for mapping specific URLs to Python functions. It essentially establishes the connection between a web request and the code that should handle it.\n",
        "\n",
        "\n",
        "Ques. 8 : What is the difference between GET and POST HTTP methods?\n",
        "\n",
        "   - The main difference between GET and POST in HTTP lies in how they send data to the server and their intended purpose. GET requests append data to the URL, making it visible and limited in size, and are typically used for retrieving data. POST requests send data in the request body, are not visible in the URL, and can handle larger amounts of data. POST is often used for submitting forms or creating/updating resources.\n",
        "\n",
        "Ques. 9 : How do you handle errors in Flask APIs?\n",
        "\n",
        "  - Error handling in Flask APIs is crucial for providing informative responses to clients when something goes wrong. Below are steps for handling the errors\n",
        "\n",
        "  1) Built-in HTTP Exceptions: Flask uses Werkzeug, which provides a set of built-in exceptions for common HTTP errors. These include: BadRequest (400): For invalid client requests, Unauthorized (401): For authentication failures, Forbidden (403): For unauthorized access, NotFound (404): When a resource isn't found, and InternalServerError (500): For server-side errors.\n",
        "\n",
        "  2) Raising Exceptions: You can raise these exceptions directly in your code when an error occurs:\n",
        "\n",
        "  3) Using abort(): Flask provides an abort() function to raise HTTP exceptions with a specific status code\n",
        "\n",
        "  4) Custom Error Handlers: You can use the @app.errorhandler decorator to create custom handlers for specific exceptions or status codes. This allows you to format the error response as JSON\n",
        "\n",
        "  5) Custom Exceptions: You can define your own exception classes to represent specific errors in your application. This can help make your code more readable and maintainable\n",
        "\n",
        "  6) Error Response Format: It's good practice to return error responses in a consistent format, usually JSON, with an error message and an appropriate HTTP status code.\n",
        "\n",
        "  7) Logging: Always log errors to help debug issues. You can use Flask's logging capabilities or external logging services.\n",
        "\n",
        "  8) Debug Mode: During development, Flask's debug mode can be helpful, as it provides detailed error messages in the browser. However, it should be disabled in production.\n",
        "\n",
        "\n",
        "\n",
        "Ques. 10 : How do you connect Flask to a SQL database ?\n",
        "\n",
        "  - 1) Create the project folder and open the command line in the directory.\n",
        "    Create a python virtual environment using the command below. python -m venv venv.\n",
        "\n",
        "    2) For windows: venv\\scripts\\activate.\n",
        "\n",
        "    3) Now, install Flask and Flask-SQLAlchemy in it using command: pip install flask flask-sqlalchemy.\n",
        "\n",
        "\n",
        "Ques. 11 : What is the role of Flask-SQLAlchemy?\n",
        "\n",
        "  - Flask-SQLAlchemy is a Flask extension that makes using SQLAlchemy with Flask easier, providing you tools and methods to interact with your database in your Flask applications through SQLAlchemy. In this tutorial, you'll build a small student management system that demonstrates how to use the Flask-SQLAlchemy extension.\n",
        "\n",
        "\n",
        "Ques. 12 : What are Flask blueprints, and how are they useful?\n",
        "\n",
        "  - Flask blueprints are a way to organize your Flask application into reusable and most importantly maintainable units. With blueprints, you can break your application into smaller, more manageable pieces, making it easier to maintain and scale.\n",
        "\n",
        "\n",
        "Ques. 13 : What is the purpose of Flask's request object?\n",
        "\n",
        "   - The Flask request object is a crucial part of the framework, acting as a bridge between the client's request and the server. It encapsulates all the incoming data from a client's web page, making it accessible to the Flask application.\n",
        "\n",
        "\n",
        "Ques. 14 : How do you create a RESTful API endpoint using Flask?\n",
        "\n",
        "   - 1. Install Flask and Flask-RESTful\n",
        "     2. Import necessary modules\n",
        "     3. Create a Flask app and API object\n",
        "     4. Create a resource class\n",
        "     This class will define the methods for your endpoint (GET, POST, PUT, DELETE).\n",
        "     Inherit from flask_restful.Resource.\n",
        "     5. Add the resource to the API\n",
        "     Use api.add_resource(ResourceClass, '/endpoint_url').\n",
        "     6.  Run the app\n",
        "     Use app.run(debug=True) for development.\n",
        "\n",
        "\n",
        "Ques. 15 : What is the purpose of Flask's jsonify() function?\n",
        "\n",
        "  - Flask's jsonify() function converts Python dictionaries or lists into JSON format and automatically sets the response's Content-Type header to application/json, making it suitable for creating JSON responses in web applications. It simplifies the process of returning JSON data from Flask routes and is commonly used in API development.\n",
        "\n",
        "\n",
        "Ques. 16 :  Explain Flask’s url_for() function.\n",
        "\n",
        "  - url_for() is a Flask function that generates a URL to a specific function dynamically. It takes the name of the view function as its first argument and any number of keyword arguments, each corresponding to a variable part of the URL rule\n",
        "\n",
        "\n",
        "Ques. 17 : How does Flask handle static files (CSS, JavaScript, etc.)?\n",
        "\n",
        "  - Flask handles static files such as CSS, JavaScript, and images by serving them directly from a designated directory within your application.\n",
        "\n",
        "  1) By default, Flask looks for a folder named static in the same directory as your main application file.\n",
        "\n",
        "  2) This folder is where you should place all your static files, such as:\n",
        "   \n",
        "   CSS files (.css)\n",
        "   JavaScript files (.js)\n",
        "   Images (.jpg, .png, .gif, etc.)\n",
        "   Other assets that don't require server-side processing.\n",
        "\n",
        "\n",
        "Ques. 18 :  What is an API specification, and how does it help in building a Flask API ?\n",
        "\n",
        "   - An API (Application Programming Interface) specification is a document that formally describes how an API works. It acts as a blueprint for the API, outlining its structure, operations, data formats, and other key details, according to Archbee and APIToolkit. This document is essential for developers building and using the API, ensuring consistency and clarity.\n",
        "\n",
        "   - An API specification, such as OpenAPI (formerly Swagger), is crucial for building a well-defined and maintainable Flask API. It acts as a blueprint, outlining the API's structure, endpoints, data formats, and expected behavior. Below is how API specifications help in building a Flask API:\n",
        "\n",
        "   1. Clear Contract and Communication:\n",
        "   Defines a shared understanding\n",
        "   Reduces ambiguity\n",
        "   Facilitates communication between teams\n",
        "\n",
        "   2. Automated Documentation Generation\n",
        "   Swagger UI\n",
        "   API reference\n",
        "\n",
        "   3. Improved Development Workflow\n",
        "   Early testing\n",
        "   Code generation\n",
        "   Consistent API design\n",
        "\n",
        "   4. Enhanced Security\n",
        "   Authentication and authorization\n",
        "   Input validation\n",
        "\n",
        "   5. Easier Maintenance and Evolution\n",
        "   Impact analysis\n",
        "   Version control\n",
        "\n",
        "\n",
        "Ques. 19 : What are HTTP status codes, and why are they important in a Flask API?\n",
        "\n",
        "  - HTTP status codes are three-digit codes that indicate the outcome of an API request. They are included in the API's response to the API client, and they include important information that helps the client know how to proceed.\n",
        "\n",
        "\n",
        "Ques. 20 : How do you handle POST requests in Flask?\n",
        "\n",
        "  - Define the Route:\n",
        "    1) Use the @app.route() decorator to specify the URL endpoint that will handle the POST request.\n",
        "    2) Include methods=['POST'] to indicate that this route should only accept POST requests.\n",
        "\n",
        "    Access Request Data:\n",
        "    1) The request object from Flask provides access to incoming request data.\n",
        "    2) For form data, use request.form to access the data as a dictionary-like object.\n",
        "    3) For JSON data, use request.json to access the data as a Python dictionary.\n",
        "    4) For file uploads, use request.files to access the uploaded files.\n",
        "\n",
        "    Process Data:\n",
        "    Once you have accessed the request data, you can perform any necessary operations, such as:\n",
        "    \n",
        "    1) Storing data in a database.\n",
        "    2) Validating data.\n",
        "    3) Performing calculations.\n",
        "    4) Sending emails.\n",
        "\n",
        "    Send a Response:\n",
        "    1) Return a response to the client after processing the request.\n",
        "    2) This could be:\n",
        "     A simple string message.\n",
        "     A rendered HTML template.\n",
        "     A JSON response.\n",
        "     A redirect to another page.\n",
        "\n",
        "\n",
        "Ques. 21 : How would you secure a Flask API?\n",
        "\n",
        "   - Below are the few steps to secure Flask API\n",
        "   \n",
        "     1) Authentication and Authorization:\n",
        "\n",
        "     2) Input Validation\n",
        "\n",
        "     3) Secure Communication\n",
        "\n",
        "     4) Cross-Origin Resource Sharing (CORS)\n",
        "\n",
        "     5) Password Management\n",
        "\n",
        "     6) Secret Key Management\n",
        "\n",
        "     7) API Access Management\n",
        "\n",
        "     8) Database Security\n",
        "\n",
        "     9) Regular Updates and Monitoring\n",
        "\n",
        "     10) General Security Practices\n",
        "\n",
        "\n",
        "Ques. 22 : What is the significance of the Flask-RESTful extension?\n",
        "\n",
        "  - Flask-RESTful is a Flask extension that simplifies the development of REST APIs. It provides a structured way to handle resources and HTTP methods, making it easier to build and organize APIs using Python and Flask. Essentially, it streamlines the process of creating web services that adhere to REST architectural principles.\n",
        "\n",
        "\n",
        "Ques. 23 : What is the role of Flask’s session object?\n",
        "\n",
        "  - n Flask, the session object provides a way to store user-specific data across multiple requests, similar to how cookies work but with added security features. It acts like a dictionary where you can store and retrieve data associated with a particular user's session. Flask uses cryptographically signed cookies to store session data on the user's browser, making it difficult for unauthorized users to tamper with the data.\n"
      ],
      "metadata": {
        "id": "3Ox-pwhvwZue"
      }
    },
    {
      "cell_type": "code",
      "source": [],
      "metadata": {
        "id": "LnA3mgFRP00D"
      },
      "execution_count": null,
      "outputs": []
    },
    {
      "cell_type": "code",
      "source": [
        "#Ques. 1 : How do you create a basic Flask application?"
      ],
      "metadata": {
        "id": "15vBcJ98wek4"
      },
      "execution_count": null,
      "outputs": []
    },
    {
      "cell_type": "code",
      "source": [
        "from flask import Flask, render_template\n",
        "\n",
        "app = Flask(__name__)\n",
        "\n",
        "@app.route('/')\n",
        "def home():\n",
        "    return render_template('index.html')\n",
        "\n",
        "# Create a templates/index.html file to render this\n",
        "\n",
        "if __name__ == '__main__':\n",
        "    app.run(debug=True)"
      ],
      "metadata": {
        "id": "dkyZKu5RP2V7"
      },
      "execution_count": null,
      "outputs": []
    },
    {
      "cell_type": "code",
      "source": [
        "#Ques. 2 : How do you serve static files like images or CSS in Flask?"
      ],
      "metadata": {
        "id": "XtbGLcAtQLAV"
      },
      "execution_count": 2,
      "outputs": []
    },
    {
      "cell_type": "code",
      "source": [
        "from flask import Flask, render_template\n",
        "\n",
        "app = Flask(__name__)\n",
        "\n",
        "@app.route('/')\n",
        "def home():\n",
        "    return render_template('index.html')\n",
        "\n",
        "if __name__ == '__main__':\n",
        "    app.run(debug=True)"
      ],
      "metadata": {
        "id": "R9lj-Am9QawT"
      },
      "execution_count": 3,
      "outputs": []
    },
    {
      "cell_type": "code",
      "source": [
        "#Ques. 3 :  How do you define different routes with different HTTP methods in Flask?"
      ],
      "metadata": {
        "id": "uI0rEhCkQmL6"
      },
      "execution_count": 4,
      "outputs": []
    },
    {
      "cell_type": "code",
      "source": [
        "@app.route('/path', methods=['GET', 'POST'])\n",
        "def function_name():\n",
        "    if request.method == 'POST':\n",
        "        # Handle POST request\n",
        "    else:\n",
        "        # Handle GET request"
      ],
      "metadata": {
        "id": "a7CecsW-QwFF"
      },
      "execution_count": null,
      "outputs": []
    },
    {
      "cell_type": "code",
      "source": [
        "#Ques. 4 :  How do you render HTML templates in Flask?"
      ],
      "metadata": {
        "id": "4C5FIA37RUcp"
      },
      "execution_count": 6,
      "outputs": []
    },
    {
      "cell_type": "code",
      "source": [
        "#1. Folder Structure\n",
        "\n",
        "your_project/\n",
        "├── app.py\n",
        "├── templates/\n",
        "│   ├── index.html\n",
        "│   └── about.html\n",
        "\n",
        "\n",
        "#2. Create Your HTML Files\n",
        "\n",
        "<!DOCTYPE html>\n",
        "<html>\n",
        "<head>\n",
        "    <title>Home Page</title>\n",
        "</head>\n",
        "<body>\n",
        "    <h1>Welcome to Flask!</h1>\n",
        "</body>\n",
        "</html>\n",
        "\n",
        "<!DOCTYPE html>\n",
        "<html>\n",
        "<head>\n",
        "    <title>About</title>\n",
        "</head>\n",
        "<body>\n",
        "    <h1>About This Site</h1>\n",
        "</body>\n",
        "</html>\n",
        "\n",
        "\n",
        "#Python App Code (app.py)\n",
        "\n",
        "from flask import Flask, render_template\n",
        "\n",
        "app = Flask(__name__)\n",
        "\n",
        "@app.route('/')\n",
        "def home():\n",
        "    return render_template('index.html')\n",
        "\n",
        "@app.route('/about')\n",
        "def about():\n",
        "    return render_template('about.html')\n",
        "\n",
        "if __name__ == '__main__':\n",
        "    app.run(debug=True)\n",
        "\n",
        "\n",
        "#Passing Data to Templates\n",
        "\n",
        "@app.route('/user/<name>')\n",
        "def user(name):\n",
        "    return render_template('user.html', username=name)\n",
        "\n",
        "<h1>Hello, {{ username }}!</h1>"
      ],
      "metadata": {
        "id": "aWvZkz-NRxZo"
      },
      "execution_count": 7,
      "outputs": []
    },
    {
      "cell_type": "code",
      "source": [
        "#Ques. 5 : How can you generate URLs for routes in Flask using url_for?"
      ],
      "metadata": {
        "id": "N9MgOArHR5gf"
      },
      "execution_count": null,
      "outputs": []
    },
    {
      "cell_type": "code",
      "source": [
        "#Basic Syntax\n",
        "\n",
        "url_for(endpoint, **values)\n",
        "\n",
        "#Example\n",
        "\n",
        "from flask import Flask, url_for, redirect\n",
        "\n",
        "app = Flask(__name__)\n",
        "\n",
        "@app.route('/')\n",
        "def home():\n",
        "    return 'This is the home page.'\n",
        "\n",
        "@app.route('/user/<username>')\n",
        "def profile(username):\n",
        "    return f\"Profile page of {username}\"\n",
        "\n",
        "@app.route('/go-to-profile')\n",
        "def go_to_profile():\n",
        "    # Generate a URL for the 'profile' route with username='john'\n",
        "    return redirect(url_for('profile', username='john'))\n",
        "\n",
        "if __name__ == '__main__':\n",
        "    app.run(debug=True)"
      ],
      "metadata": {
        "id": "wbWyXYMfR33t"
      },
      "execution_count": null,
      "outputs": []
    },
    {
      "cell_type": "code",
      "source": [
        "#Ques.6 : How do you handle forms in Flask?"
      ],
      "metadata": {
        "id": "duhTYPB_TJfK"
      },
      "execution_count": 9,
      "outputs": []
    },
    {
      "cell_type": "code",
      "source": [
        "#Basic Form Handling\n",
        "\n",
        "from flask import Flask, request, render_template\n",
        "\n",
        "app = Flask(__name__)\n",
        "\n",
        "@app.route('/form', methods=['GET', 'POST'])\n",
        "def form():\n",
        "    if request.method == 'POST':\n",
        "        name = request.form['name']\n",
        "        return f'Hello, {name}!'\n",
        "    return render_template('form.html')\n",
        "\n",
        "#Create the form.html Template\n",
        "\n",
        "<!DOCTYPE html>\n",
        "<html>\n",
        "<head>\n",
        "    <title>Form Example</title>\n",
        "</head>\n",
        "<body>\n",
        "    <form method=\"POST\" action=\"/form\">\n",
        "        <label for=\"name\">Name:</label>\n",
        "        <input type=\"text\" name=\"name\" id=\"name\" required>\n",
        "        <input type=\"submit\" value=\"Submit\">\n",
        "    </form>\n",
        "</body>\n",
        "</html>\n",
        "\n",
        "\n",
        "\n",
        "#Accessing Form Data\n",
        "\n",
        "from flask_wtf import FlaskForm\n",
        "from wtforms import StringField, SubmitField\n",
        "from wtforms.validators import DataRequired\n",
        "\n",
        "class NameForm(FlaskForm):\n",
        "    name = StringField('What is your name?', validators=[DataRequired()])\n",
        "    submit = SubmitField('Submit')\n",
        "\n",
        "#use in Flask route\n",
        "\n",
        "from flask import Flask, render_template, redirect, url_for\n",
        "from forms import NameForm  # assuming saved in forms.py\n",
        "\n",
        "app = Flask(__name__)\n",
        "app.secret_key = 'your_secret_key'\n",
        "\n",
        "@app.route('/form', methods=['GET', 'POST'])\n",
        "def form():\n",
        "    form = NameForm()\n",
        "    if form.validate_on_submit():\n",
        "        name = form.name.data\n",
        "        return redirect(url_for('success', name=name))\n",
        "    return render_template('form.html', form=form)\n",
        "\n",
        "@app.route('/success/<name>')\n",
        "def success(name):\n",
        "    return f'Hello, {name}!'\n",
        "\n",
        "\n",
        "#Update template\n",
        "\n",
        "<form method=\"POST\">\n",
        "    {{ form.hidden_tag() }}\n",
        "    {{ form.name.label }} {{ form.name(size=20) }}\n",
        "    {{ form.submit() }}\n",
        "</form>"
      ],
      "metadata": {
        "id": "eVQ4HvZRTdH5"
      },
      "execution_count": null,
      "outputs": []
    },
    {
      "cell_type": "code",
      "source": [
        "#Ques.7 : How can you validate form data in Flask?"
      ],
      "metadata": {
        "id": "hy-rdVNFUfmI"
      },
      "execution_count": 11,
      "outputs": []
    },
    {
      "cell_type": "code",
      "source": [
        "app.config['SECRET_KEY'] = 'your-secret-key'"
      ],
      "metadata": {
        "id": "R12LyIklU9WW"
      },
      "execution_count": 35,
      "outputs": []
    },
    {
      "cell_type": "code",
      "source": [
        "#Ques.  How do you manage sessions in Flask?\n"
      ],
      "metadata": {
        "id": "03Gl7n7JVnrM"
      },
      "execution_count": 36,
      "outputs": []
    },
    {
      "cell_type": "code",
      "source": [
        "#Setup Session in Flask\n",
        "\n",
        "from flask import Flask, session, redirect, url_for, request\n",
        "\n",
        "app = Flask(__name__)\n",
        "app.secret_key = 'your_secret_key'  # Required to sign session cookies\n",
        "\n",
        "#Set Session Data\n",
        "\n",
        "@app.route('/login', methods=['POST'])\n",
        "def login():\n",
        "    username = request.form.get('username')\n",
        "    if username:\n",
        "        session['username'] = username\n",
        "        return redirect(url_for('profile'))\n",
        "    return 'Login failed', 401\n",
        "\n",
        "#Access Session Data\n",
        "\n",
        "@app.route('/profile')\n",
        "def profile():\n",
        "    if 'username' in session:\n",
        "        return f'Welcome, {session[\"username\"]}!'\n",
        "    return redirect(url_for('login_page'))\n",
        "\n",
        "#Clear Session (Logout)\n",
        "\n",
        "@app.route('/logout')\n",
        "def logout():\n",
        "    session.clear()  # or use session.pop('username', None)\n",
        "    return redirect(url_for('login_page'))"
      ],
      "metadata": {
        "id": "4cKd9W4iVvgR"
      },
      "execution_count": 14,
      "outputs": []
    },
    {
      "cell_type": "code",
      "source": [
        "#Ques. 9 : How do you redirect to a different route in Flask?"
      ],
      "metadata": {
        "id": "1Ks91hhVWLJW"
      },
      "execution_count": 15,
      "outputs": []
    },
    {
      "cell_type": "code",
      "source": [
        "from flask import Flask, redirect, url_for\n",
        "\n",
        "app = Flask(__name__)\n",
        "\n",
        "@app.route('/')\n",
        "def home():\n",
        "    return 'Welcome to the Home Page!'\n",
        "\n",
        "@app.route('/login')\n",
        "def login():\n",
        "    # Redirect to the profile page\n",
        "    return redirect(url_for('profile'))\n",
        "\n",
        "@app.route('/profile')\n",
        "def profile():\n",
        "    return 'This is the profile page.'"
      ],
      "metadata": {
        "id": "AaZNEueeWXQQ"
      },
      "execution_count": 16,
      "outputs": []
    },
    {
      "cell_type": "code",
      "source": [
        "#Ques. 10 : How do you handle errors in Flask (e.g., 404)?"
      ],
      "metadata": {
        "id": "Wnf98vHpWcCz"
      },
      "execution_count": 17,
      "outputs": []
    },
    {
      "cell_type": "code",
      "source": [
        "from flask import Flask, render_template\n",
        "\n",
        "app = Flask(__name__)\n",
        "\n",
        "@app.errorhandler(404)\n",
        "def not_found(error):\n",
        "    return render_template('404.html'), 404"
      ],
      "metadata": {
        "id": "10UUDcqrWltb"
      },
      "execution_count": 18,
      "outputs": []
    },
    {
      "cell_type": "code",
      "source": [
        "#Ques. 11 : How do you structure a Flask app using Blueprints?"
      ],
      "metadata": {
        "id": "__Hq-KodW4nB"
      },
      "execution_count": 19,
      "outputs": []
    },
    {
      "cell_type": "code",
      "source": [
        "#Create Blueprint\n",
        "\n",
        "from app import create_app\n",
        "\n",
        "app = create_app()\n",
        "\n",
        "if __name__ == '__main__':\n",
        "    app.run(debug=True)\n",
        "\n",
        "\n",
        "from flask import Flask\n",
        "\n",
        "def create_app():\n",
        "    app = Flask(__name__)\n",
        "    app.config['SECRET_KEY'] = 'your-secret-key'\n",
        "\n",
        "    # Import and register Blueprints\n",
        "    from .main import main as main_bp\n",
        "    from .auth import auth as auth_bp\n",
        "\n",
        "    app.register_blueprint(main_bp)\n",
        "    app.register_blueprint(auth_bp, url_prefix='/auth')\n",
        "\n",
        "    return app\n",
        "\n",
        "from flask import Blueprint\n",
        "\n",
        "main = Blueprint('main', __name__)\n",
        "\n",
        "from . import routes\n",
        "\n",
        "\n",
        "from . import main\n",
        "from flask import render_template\n",
        "\n",
        "@main.route('/')\n",
        "def home():\n",
        "    return render_template('main/home.html')\n",
        "\n",
        "\n",
        "from flask import Blueprint\n",
        "\n",
        "auth = Blueprint('auth', __name__)\n",
        "\n",
        "from . import routes\n",
        "\n",
        "\n",
        "from . import auth\n",
        "from flask import render_template\n",
        "\n",
        "@auth.route('/login')\n",
        "def login():\n",
        "    return render_template('auth/login.html')\n"
      ],
      "metadata": {
        "colab": {
          "base_uri": "https://localhost:8080/",
          "height": 393
        },
        "id": "WMIAOvRrW-h0",
        "outputId": "fcc0bddd-0843-451f-d3aa-e62d605dedb6"
      },
      "execution_count": 32,
      "outputs": [
        {
          "output_type": "error",
          "ename": "ModuleNotFoundError",
          "evalue": "No module named 'app'",
          "traceback": [
            "\u001b[0;31m---------------------------------------------------------------------------\u001b[0m",
            "\u001b[0;31mModuleNotFoundError\u001b[0m                       Traceback (most recent call last)",
            "\u001b[0;32m/tmp/ipython-input-32-3265823179.py\u001b[0m in \u001b[0;36m<cell line: 0>\u001b[0;34m()\u001b[0m\n\u001b[1;32m      1\u001b[0m \u001b[0;31m#Create Blueprint\u001b[0m\u001b[0;34m\u001b[0m\u001b[0;34m\u001b[0m\u001b[0m\n\u001b[1;32m      2\u001b[0m \u001b[0;34m\u001b[0m\u001b[0m\n\u001b[0;32m----> 3\u001b[0;31m \u001b[0;32mfrom\u001b[0m \u001b[0mapp\u001b[0m \u001b[0;32mimport\u001b[0m \u001b[0mcreate_app\u001b[0m\u001b[0;34m\u001b[0m\u001b[0;34m\u001b[0m\u001b[0m\n\u001b[0m\u001b[1;32m      4\u001b[0m \u001b[0;34m\u001b[0m\u001b[0m\n\u001b[1;32m      5\u001b[0m \u001b[0mapp\u001b[0m \u001b[0;34m=\u001b[0m \u001b[0mcreate_app\u001b[0m\u001b[0;34m(\u001b[0m\u001b[0;34m)\u001b[0m\u001b[0;34m\u001b[0m\u001b[0;34m\u001b[0m\u001b[0m\n",
            "\u001b[0;31mModuleNotFoundError\u001b[0m: No module named 'app'",
            "",
            "\u001b[0;31m---------------------------------------------------------------------------\u001b[0;32m\nNOTE: If your import is failing due to a missing package, you can\nmanually install dependencies using either !pip or !apt.\n\nTo view examples of installing some common dependencies, click the\n\"Open Examples\" button below.\n\u001b[0;31m---------------------------------------------------------------------------\u001b[0m\n"
          ],
          "errorDetails": {
            "actions": [
              {
                "action": "open_url",
                "actionText": "Open Examples",
                "url": "/notebooks/snippets/importing_libraries.ipynb"
              }
            ]
          }
        }
      ]
    },
    {
      "cell_type": "code",
      "source": [
        "#Ques. 12 : How do you define a custom Jinja filter in Flask?"
      ],
      "metadata": {
        "id": "MFWA8qlaXuY6"
      },
      "execution_count": 21,
      "outputs": []
    },
    {
      "cell_type": "code",
      "source": [
        "from flask import Flask, render_template_string\n",
        "\n",
        "app = Flask(__name__)\n",
        "\n",
        "# Define the custom filter\n",
        "@app.template_filter('reverse')\n",
        "def reverse_string(s):\n",
        "    return s[::-1]\n",
        "\n",
        "@app.route('/')\n",
        "def index():\n",
        "    return render_template_string(\"{{ 'Hello' | reverse }}\")"
      ],
      "metadata": {
        "id": "s5DZYUnIX6Ap"
      },
      "execution_count": 31,
      "outputs": []
    },
    {
      "cell_type": "code",
      "source": [
        "#Ques. 13 : How can you redirect with query parameters in Flask?"
      ],
      "metadata": {
        "id": "HkimdhtJYcjb"
      },
      "execution_count": 24,
      "outputs": []
    },
    {
      "cell_type": "code",
      "source": [
        "from flask import Flask, redirect, url_for, request\n",
        "\n",
        "app = Flask(__name__)\n",
        "\n",
        "@app.route('/start')\n",
        "def start():\n",
        "    # Redirect to 'hello' route with query parameters\n",
        "    return redirect(url_for('hello', name='Priti', age=30))\n",
        "\n",
        "@app.route('/hello')\n",
        "def hello():\n",
        "    name = request.args.get('name')\n",
        "    age = request.args.get('age')\n",
        "    return f'Hello {name}, you are {age} years old!'\n",
        "\n",
        "if __name__ == '__main__':\n",
        "    app.run(debug=True)"
      ],
      "metadata": {
        "id": "226TXcXyYt_r"
      },
      "execution_count": null,
      "outputs": []
    },
    {
      "cell_type": "code",
      "source": [
        "#Ques. 14 : How do you return JSON responses in Flask?"
      ],
      "metadata": {
        "id": "y8Rs0rWWYwqH"
      },
      "execution_count": 26,
      "outputs": []
    },
    {
      "cell_type": "code",
      "source": [
        "@app.route('/error')\n",
        "def error():\n",
        "    return jsonify({\"error\": \"Something went wrong\"}), 400"
      ],
      "metadata": {
        "id": "MQ3HLb4bY68A"
      },
      "execution_count": 29,
      "outputs": []
    },
    {
      "cell_type": "code",
      "source": [
        "#Ques. 15 : How do you capture URL parameters in Flask?"
      ],
      "metadata": {
        "id": "klhZNRZoZDU7"
      },
      "execution_count": 28,
      "outputs": []
    },
    {
      "cell_type": "code",
      "source": [
        "@app.route('/post/<int:post_id>')\n",
        "def show_post(post_id):\n",
        "    return f\"Post ID: {post_id}\""
      ],
      "metadata": {
        "id": "dz5-ckLBZKN-"
      },
      "execution_count": 30,
      "outputs": []
    },
    {
      "cell_type": "code",
      "source": [],
      "metadata": {
        "id": "rvcMLsT_Z6J_"
      },
      "execution_count": null,
      "outputs": []
    }
  ]
}