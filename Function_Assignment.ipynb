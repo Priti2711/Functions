{
  "nbformat": 4,
  "nbformat_minor": 0,
  "metadata": {
    "colab": {
      "provenance": []
    },
    "kernelspec": {
      "name": "python3",
      "display_name": "Python 3"
    },
    "language_info": {
      "name": "python"
    }
  },
  "cells": [
    {
      "cell_type": "code",
      "execution_count": null,
      "metadata": {
        "id": "sFY5PsudTSjq"
      },
      "outputs": [],
      "source": []
    },
    {
      "cell_type": "markdown",
      "source": [
        "# Functions Assignment\n",
        "\n",
        "Ques. 1 : What is the difference between a function and a method in Python?\n",
        "\n",
        "  - Functions are independent blocks of code that can be called from anywhere, while methods are tied to objects or classes and need an object or class instance to be invoked.\n",
        "\n",
        "\n",
        "Ques. 2 : Explain the concept of function arguments and parameters in Python.\n",
        "\n",
        "   - In Python, functions can accept inputs called arguments, which are passed to the function when it is called. These arguments are received and used within the function through variables called parameters.\n",
        "\n",
        "   Parameters\n",
        "\n",
        "   - Parameters are the names listed inside the parentheses in the function definition.\n",
        "   - They act as placeholders for the values that will be passed when the function is called.\n",
        "   - Parameters define the type and number of inputs that a function expects.\n",
        "\n",
        "   Arguments\n",
        "\n",
        "   - Arguments are the actual values that are passed to a function when it is called.\n",
        "   - They provide the concrete data that the function will operate on.\n",
        "   - Arguments must match the number and type of parameters defined in the function definition.\n",
        "\n",
        "\n",
        "Ques. 3 : What are the different ways to define and call a function in Python?\n",
        "\n",
        "   - Ways to define functions\n",
        "\n",
        "   1) Standard functions : Defined using Def fnction\n",
        "\n",
        "   2) Lambda function : Anonymous, one-line functions defined using the lambda keyword.\n",
        "\n",
        "   3) Nested Function : Functions defined inside another function.\n",
        "\n",
        "   4) Recursive Functions: Functions that call themselves\n",
        "\n",
        "   - Ways to Call Functions\n",
        "\n",
        "   1) Standard Call : Use the function name followed by parentheses ()\n",
        "\n",
        "   2) Call with Positional Arguments: Arguments are passed based on their order in the function definition.\n",
        "\n",
        "   3) Call with Keyword Arguments: Arguments are passed using the parameter names.\n",
        "\n",
        "   4) Call with Default Arguments: If a function has default parameter values, they can be omitted in the function call.\n",
        "\n",
        "   5) Call with Arbitrary Arguments: Use *args for positional arguments and **kwargs for keyword arguments.\n",
        "\n",
        "\n",
        "Ques. 4 :  What is the purpose of the `return` statement in a Python function?\n",
        "\n",
        "   - In Python, the return statement serves to exit a function and send a value back to the caller.\n",
        "\n",
        "  \n",
        "\n",
        "Ques. 5 : What are iterators in Python and how do they differ from iterables?\n",
        "\n",
        "-   An iterator is an object that contains a countable number of values. An iterator is an object that can be iterated upon, meaning that you can traverse through all the values.\n",
        "\n",
        "- Iterators control loops, allowing you to traverse arbitrary data containers one item at a time. Iterables, on the other hand, provide the data that you want to iterate over.\n",
        "\n",
        "Ques. 6 :  Explain the concept of generators in Python and how they are defined.\n",
        "\n",
        "\n",
        "- In Python, generators are a type of iterator that allows you to create sequences of values efficiently without storing them all in memory at once. They are defined using the yield keyword instead of return within a function. This causes the function to pause and produce a value when yield is encountered, then resume execution when requested.\n",
        "\n",
        "\n",
        "Ques. 7 : What are the advantages of using generators over regular functions?\n",
        "\n",
        "- Generators offer several advantages over regular functions, primarily in terms of memory efficiency, lazy evaluation, and the ability to handle infinite sequences or large datasets. They produce values one by one as needed, rather than generating an entire sequence upfront, which is beneficial when dealing with large or unbounded data streams.\n",
        "\n",
        "\n",
        "Ques. 8 : What is a lambda function in Python and when is it typically used?\n",
        "\n",
        "-  A lambda function in Python is a small, anonymous function defined using the lambda keyword rather than the standard def keyword.\n",
        "\n",
        "-  It is used when you need a simple function for a short time and don't want to formally define it with def\n",
        "\n",
        "\n",
        "Ques. 9 :  Explain the purpose and usage of the `map()` function in Python.\n",
        "\n",
        "-  The map() function in Python is used to apply a given function to every item in an iterable (like a list, tuple, etc.) and return a new map object (which is an iterator).\n",
        "\n",
        "- The purpose is to transform or process items in a collection without using a loop explicitly.\n",
        "\n",
        "- It is mostly used because it is cleaner and more concise, avoids manual iteration, often used with lambda for simple transformations.\n",
        "\n",
        "\n",
        "Ques. 10 : What is the difference between `map()`, `reduce()`, and `filter()` functions in Python?\n",
        "\n",
        " - map(), filter(), and reduce() are higher-order functions in Python that operate on iterables (e.g., lists, tuples).\n",
        "\n",
        " -  map ()\n",
        "\n",
        " 1) Purpose: Applies a given function to each item of an iterable and returns a new iterator with the results.\n",
        "\n",
        " 2) Output: Returns a map object that stores the value of the transformed item. The map object needs to be converted to a list, tuple, etc. to view the results.\n",
        "\n",
        " 3) Use case: When you need to transform every element in an iterable.\n",
        "\n",
        " - filter ()\n",
        "\n",
        " 1) Purpose: Filters elements from an iterable based on a given condition (a function that returns True or False). Returns an iterator with the elements that satisfy the condition.\n",
        "\n",
        " 2) Output: Returns a filter object that stores the filtered items. The filter object needs to be converted to a list, tuple, etc. to view the results.\n",
        "\n",
        " 3) Use case: When you need to select elements based on a condition.\n",
        "\n",
        " - reduce ()\n",
        "\n",
        " 1) Purpose: Applies a function cumulatively to the items of an iterable, reducing it to a single value.\n",
        "\n",
        " 2) Output: Returns a single value.\n",
        "\n",
        " 3) Use case: When you need to combine all elements into a single result (e.g., sum, product, etc.).\n",
        "\n",
        "\n",
        "Ques. 11 : Using pen & Paper write the internal mechanism for sum operation using reduce function on this given list:[47,11,42,13];\n",
        "\n",
        "- Here is how we will use reduce function\n",
        "\n",
        "   Step-by-step Explanation:\n",
        " - Initial List: [47, 11, 42, 13]\n",
        " - Operation: We apply lambda x, y: x + y pairwise, from left to right\n",
        "\n",
        "   Iteration 1:\n",
        "  - Apply function to first two elements: 47 and 11\n",
        "  - 47 + 11 = 58\n",
        "  - Intermediate result: 58\n",
        "\n",
        "     Iteration 2:\n",
        "  - Now reduce applies function to intermediate result and next element: 58 and 42\n",
        "  - 58 + 42 = 100\n",
        "\n",
        "    Iteration 3:\n",
        "  - Apply function to current result and last element: 100 and 13\n",
        "  - 100 + 13 = 113\n",
        "  - So the final output = 113\n",
        "\n",
        "\n",
        "  \n",
        "\n",
        "\n",
        "\n",
        "\n",
        "\n",
        "\n"
      ],
      "metadata": {
        "id": "KtaezENhWaYL"
      }
    },
    {
      "cell_type": "code",
      "source": [],
      "metadata": {
        "id": "iZmwrceoWoPk"
      },
      "execution_count": null,
      "outputs": []
    },
    {
      "cell_type": "markdown",
      "source": [
        "Ques. 1 : Write a Python function that takes a list of numbers as input and returns the sum of all even numbers in\n",
        "the list."
      ],
      "metadata": {
        "id": "Z10xPEiaVqZC"
      }
    },
    {
      "cell_type": "code",
      "source": [
        "def sum_even_numbers(numbers):\n",
        "    return sum(num for num in numbers if num % 2 == 0)\n",
        "\n",
        "my_list = (20, 21, 22, 24, 25, 28)\n",
        "result = sum_even_numbers(my_list)\n",
        "print(result)\n"
      ],
      "metadata": {
        "colab": {
          "base_uri": "https://localhost:8080/"
        },
        "id": "kR20U8RVlyBs",
        "outputId": "e6f31c06-cc91-4c8c-86b0-341ceffaab96"
      },
      "execution_count": 16,
      "outputs": [
        {
          "output_type": "stream",
          "name": "stdout",
          "text": [
            "94\n"
          ]
        }
      ]
    },
    {
      "cell_type": "markdown",
      "source": [
        "Ques. 2 : Create a Python function that accepts a string and returns the reverse of that string."
      ],
      "metadata": {
        "id": "El7EZ4lEVxHu"
      }
    },
    {
      "cell_type": "code",
      "source": [
        "string = \"Welcome\"\n",
        "reversed_string = string[::-1]\n",
        "print(reversed_string)"
      ],
      "metadata": {
        "colab": {
          "base_uri": "https://localhost:8080/"
        },
        "id": "CmbK4QL9V1m7",
        "outputId": "0ad9016f-b9ce-4f0f-f25c-d1c627702d69"
      },
      "execution_count": 24,
      "outputs": [
        {
          "output_type": "stream",
          "name": "stdout",
          "text": [
            "emocleW\n"
          ]
        }
      ]
    },
    {
      "cell_type": "code",
      "source": [],
      "metadata": {
        "id": "BWV5f13kDzFD"
      },
      "execution_count": null,
      "outputs": []
    },
    {
      "cell_type": "markdown",
      "source": [
        "Ques. 3 :  Implement a Python function that takes a list of integers and returns a new list containing the squares of\n",
        "each number."
      ],
      "metadata": {
        "id": "yeUaVjDZYZNo"
      }
    },
    {
      "cell_type": "code",
      "source": [
        "def squared_numbers(numbers):\n",
        "  return[x ** 2 for x in numbers]\n",
        "\n",
        "list = (2, 3, 4, 5, 6)\n",
        "sqaures = squared_numbers(list)\n",
        "print(sqaures)"
      ],
      "metadata": {
        "colab": {
          "base_uri": "https://localhost:8080/"
        },
        "id": "tPVnX2WbYih-",
        "outputId": "8ff41872-a43a-4a6e-c580-e6d838f978b3"
      },
      "execution_count": 29,
      "outputs": [
        {
          "output_type": "stream",
          "name": "stdout",
          "text": [
            "[4, 9, 16, 25, 36]\n"
          ]
        }
      ]
    },
    {
      "cell_type": "markdown",
      "source": [
        "Ques. 4 : Write a Python function that checks if a given number is prime or not from 1 to 200."
      ],
      "metadata": {
        "id": "ZOu2c8sHbbZk"
      }
    },
    {
      "cell_type": "code",
      "source": [
        "def is_prime(n):\n",
        "    if n < 2:\n",
        "        return False\n",
        "    for i in range(2, int(n ** 0.5) + 1):\n",
        "        if n % i == 0:\n",
        "            return False\n",
        "    return True\n",
        "\n",
        "for num in range(1, 201):\n",
        "    if is_prime(num):\n",
        "        print(f\"{num} is prime\")"
      ],
      "metadata": {
        "colab": {
          "base_uri": "https://localhost:8080/"
        },
        "id": "Y_RzdeKPZSky",
        "outputId": "af128ed9-38da-4490-9a10-44836bf5d5e0"
      },
      "execution_count": 30,
      "outputs": [
        {
          "output_type": "stream",
          "name": "stdout",
          "text": [
            "2 is prime\n",
            "3 is prime\n",
            "5 is prime\n",
            "7 is prime\n",
            "11 is prime\n",
            "13 is prime\n",
            "17 is prime\n",
            "19 is prime\n",
            "23 is prime\n",
            "29 is prime\n",
            "31 is prime\n",
            "37 is prime\n",
            "41 is prime\n",
            "43 is prime\n",
            "47 is prime\n",
            "53 is prime\n",
            "59 is prime\n",
            "61 is prime\n",
            "67 is prime\n",
            "71 is prime\n",
            "73 is prime\n",
            "79 is prime\n",
            "83 is prime\n",
            "89 is prime\n",
            "97 is prime\n",
            "101 is prime\n",
            "103 is prime\n",
            "107 is prime\n",
            "109 is prime\n",
            "113 is prime\n",
            "127 is prime\n",
            "131 is prime\n",
            "137 is prime\n",
            "139 is prime\n",
            "149 is prime\n",
            "151 is prime\n",
            "157 is prime\n",
            "163 is prime\n",
            "167 is prime\n",
            "173 is prime\n",
            "179 is prime\n",
            "181 is prime\n",
            "191 is prime\n",
            "193 is prime\n",
            "197 is prime\n",
            "199 is prime\n"
          ]
        }
      ]
    },
    {
      "cell_type": "code",
      "source": [],
      "metadata": {
        "id": "RBPidZ3Eeel1"
      },
      "execution_count": null,
      "outputs": []
    },
    {
      "cell_type": "markdown",
      "source": [
        "Create an iterator class in Python that generates the Fibonacci sequence up to a specified number of\n",
        "terms."
      ],
      "metadata": {
        "id": "70UPkCszekZB"
      }
    },
    {
      "cell_type": "code",
      "source": [
        "class FibonacciIterator:\n",
        "    def __init__(self, max_terms):\n",
        "        self.max_terms = max_terms  # Total number of terms to generate\n",
        "        self.count = 0              # Tracks the number of terms generated so far\n",
        "        self.a, self.b = 0, 1       # Starting values for the Fibonacci sequence\n",
        "\n",
        "    def __iter__(self):\n",
        "        return self\n",
        "\n",
        "    def __next__(self):\n",
        "        if self.count >= self.max_terms:\n",
        "            raise StopIteration\n",
        "        if self.count == 0:\n",
        "            self.count += 1\n",
        "            return 0\n",
        "        elif self.count == 1:\n",
        "            self.count += 1\n",
        "            return 1\n",
        "        else:\n",
        "            self.a, self.b = self.b, self.a + self.b\n",
        "            self.count += 1\n",
        "            return self.a\n",
        "\n",
        "fib = FibonacciIterator(10)\n",
        "\n",
        "for num in fib:\n",
        "    print(num)"
      ],
      "metadata": {
        "colab": {
          "base_uri": "https://localhost:8080/"
        },
        "id": "Pucghyuten42",
        "outputId": "57dc4e66-7c5e-4b0d-ecba-8f9305bc54fb"
      },
      "execution_count": 31,
      "outputs": [
        {
          "output_type": "stream",
          "name": "stdout",
          "text": [
            "0\n",
            "1\n",
            "1\n",
            "1\n",
            "2\n",
            "3\n",
            "5\n",
            "8\n",
            "13\n",
            "21\n"
          ]
        }
      ]
    },
    {
      "cell_type": "code",
      "source": [],
      "metadata": {
        "id": "Dm3BGYT4fYCs"
      },
      "execution_count": null,
      "outputs": []
    },
    {
      "cell_type": "markdown",
      "source": [
        "Write a generator function in Python that yields the powers of 2 up to a given exponent."
      ],
      "metadata": {
        "id": "jkWWJDmJfZ0k"
      }
    },
    {
      "cell_type": "code",
      "source": [
        "def powers_of_two(max_exponent):\n",
        "    for exp in range(max_exponent + 1):\n",
        "        yield 2 ** exp\n",
        "\n",
        "for power in powers_of_two(5):\n",
        "    print(power)"
      ],
      "metadata": {
        "colab": {
          "base_uri": "https://localhost:8080/"
        },
        "id": "wLeVoj5pfaom",
        "outputId": "436db507-76be-4799-9182-49cebca8fdcb"
      },
      "execution_count": 32,
      "outputs": [
        {
          "output_type": "stream",
          "name": "stdout",
          "text": [
            "1\n",
            "2\n",
            "4\n",
            "8\n",
            "16\n",
            "32\n"
          ]
        }
      ]
    },
    {
      "cell_type": "markdown",
      "source": [
        "7. Implement a generator function that reads a file line by line and yields each line as a string."
      ],
      "metadata": {
        "id": "Zd8WXvVBf4-1"
      }
    },
    {
      "cell_type": "markdown",
      "source": [
        "def read_file_line_by_line(file_path):\n",
        "    with open(file_path, 'r') as file:\n",
        "        for line in file:\n",
        "            yield line.rstrip('\\n')  # Remove trailing newline character\n",
        "\n",
        "\n",
        "for line in read_file_line_by_line('example.txt'):\n",
        "    print(line)"
      ],
      "metadata": {
        "id": "DLlq2i9cf30X"
      }
    },
    {
      "cell_type": "markdown",
      "source": [
        "Ques. 8 : Use a lambda function in Python to sort a list of tuples based on the second element of each tuple."
      ],
      "metadata": {
        "id": "ef6h_x0ygZgc"
      }
    },
    {
      "cell_type": "code",
      "source": [
        "data = [(1, 3), (4, 1), (2, 5), (9, 0)]\n",
        "sorted_data = sorted(data, key=lambda x: x[1])\n",
        "\n",
        "print(sorted_data)"
      ],
      "metadata": {
        "colab": {
          "base_uri": "https://localhost:8080/"
        },
        "id": "q0BZSceNgQF3",
        "outputId": "c8af7f67-ad19-4cbf-e774-fcb3bff04e94"
      },
      "execution_count": 33,
      "outputs": [
        {
          "output_type": "stream",
          "name": "stdout",
          "text": [
            "[(9, 0), (4, 1), (1, 3), (2, 5)]\n"
          ]
        }
      ]
    },
    {
      "cell_type": "code",
      "source": [],
      "metadata": {
        "id": "G9FHLN_ogkGz"
      },
      "execution_count": null,
      "outputs": []
    },
    {
      "cell_type": "markdown",
      "source": [
        "Ques. 9: Write a Python program that uses `map()` to convert a list of temperatures from Celsius to Fahrenheit."
      ],
      "metadata": {
        "id": "tNMzHCafgnAj"
      }
    },
    {
      "cell_type": "code",
      "source": [
        "celsius = [0, 10, 20, 37, 100]\n",
        "fahrenheit = list(map(lambda c: (9/5) * c + 32, celsius))\n",
        "print(\"Celsius:    \", celsius)\n",
        "print(\"Fahrenheit: \", fahrenheit)"
      ],
      "metadata": {
        "colab": {
          "base_uri": "https://localhost:8080/",
          "height": 198
        },
        "id": "2OXO_eIyg1Bg",
        "outputId": "f87f3bc4-8c19-4861-e150-31c85eb982b3"
      },
      "execution_count": 34,
      "outputs": [
        {
          "output_type": "error",
          "ename": "TypeError",
          "evalue": "'tuple' object is not callable",
          "traceback": [
            "\u001b[0;31m---------------------------------------------------------------------------\u001b[0m",
            "\u001b[0;31mTypeError\u001b[0m                                 Traceback (most recent call last)",
            "\u001b[0;32m<ipython-input-34-298e5a0f3ad3>\u001b[0m in \u001b[0;36m<cell line: 0>\u001b[0;34m()\u001b[0m\n\u001b[1;32m      1\u001b[0m \u001b[0mcelsius\u001b[0m \u001b[0;34m=\u001b[0m \u001b[0;34m[\u001b[0m\u001b[0;36m0\u001b[0m\u001b[0;34m,\u001b[0m \u001b[0;36m10\u001b[0m\u001b[0;34m,\u001b[0m \u001b[0;36m20\u001b[0m\u001b[0;34m,\u001b[0m \u001b[0;36m37\u001b[0m\u001b[0;34m,\u001b[0m \u001b[0;36m100\u001b[0m\u001b[0;34m]\u001b[0m\u001b[0;34m\u001b[0m\u001b[0;34m\u001b[0m\u001b[0m\n\u001b[0;32m----> 2\u001b[0;31m \u001b[0mfahrenheit\u001b[0m \u001b[0;34m=\u001b[0m \u001b[0mlist\u001b[0m\u001b[0;34m(\u001b[0m\u001b[0mmap\u001b[0m\u001b[0;34m(\u001b[0m\u001b[0;32mlambda\u001b[0m \u001b[0mc\u001b[0m\u001b[0;34m:\u001b[0m \u001b[0;34m(\u001b[0m\u001b[0;36m9\u001b[0m\u001b[0;34m/\u001b[0m\u001b[0;36m5\u001b[0m\u001b[0;34m)\u001b[0m \u001b[0;34m*\u001b[0m \u001b[0mc\u001b[0m \u001b[0;34m+\u001b[0m \u001b[0;36m32\u001b[0m\u001b[0;34m,\u001b[0m \u001b[0mcelsius\u001b[0m\u001b[0;34m)\u001b[0m\u001b[0;34m)\u001b[0m\u001b[0;34m\u001b[0m\u001b[0;34m\u001b[0m\u001b[0m\n\u001b[0m\u001b[1;32m      3\u001b[0m \u001b[0mprint\u001b[0m\u001b[0;34m(\u001b[0m\u001b[0;34m\"Celsius:    \"\u001b[0m\u001b[0;34m,\u001b[0m \u001b[0mcelsius\u001b[0m\u001b[0;34m)\u001b[0m\u001b[0;34m\u001b[0m\u001b[0;34m\u001b[0m\u001b[0m\n\u001b[1;32m      4\u001b[0m \u001b[0mprint\u001b[0m\u001b[0;34m(\u001b[0m\u001b[0;34m\"Fahrenheit: \"\u001b[0m\u001b[0;34m,\u001b[0m \u001b[0mfahrenheit\u001b[0m\u001b[0;34m)\u001b[0m\u001b[0;34m\u001b[0m\u001b[0;34m\u001b[0m\u001b[0m\n",
            "\u001b[0;31mTypeError\u001b[0m: 'tuple' object is not callable"
          ]
        }
      ]
    },
    {
      "cell_type": "code",
      "source": [],
      "metadata": {
        "id": "Ai8_7lCqg9KU"
      },
      "execution_count": null,
      "outputs": []
    },
    {
      "cell_type": "markdown",
      "source": [
        "Ques. 10 : Create a Python program that uses `filter()` to remove all the vowels from a given string."
      ],
      "metadata": {
        "id": "Cb_dNsHnhUO1"
      }
    },
    {
      "cell_type": "code",
      "source": [
        "def remove_vowels(s):\n",
        "    vowels = \"aeiouAEIOU\"\n",
        "    return ''.join(filter(lambda char: char not in vowels, s))\n",
        "\n",
        "input_string = \"Hello, World!\"\n",
        "result = remove_vowels(input_string)\n",
        "print(result)"
      ],
      "metadata": {
        "colab": {
          "base_uri": "https://localhost:8080/"
        },
        "id": "LxphrqbghoyD",
        "outputId": "28c09c84-c2eb-4609-bc92-7636ae9c916d"
      },
      "execution_count": 35,
      "outputs": [
        {
          "output_type": "stream",
          "name": "stdout",
          "text": [
            "Hll, Wrld!\n"
          ]
        }
      ]
    },
    {
      "cell_type": "code",
      "source": [],
      "metadata": {
        "id": "D2xYHkqJhvKX"
      },
      "execution_count": null,
      "outputs": []
    },
    {
      "cell_type": "markdown",
      "source": [
        "11) Imagine an accounting routine used in a book shop. It works on a list with sublists, which look like this:\n",
        "\n",
        "\n",
        "\n",
        "\n",
        "\n",
        "\n",
        "\n",
        "Write a Python program, which returns a list with 2-tuples. Each tuple consists of the order number and the\n",
        "product of the price per item and the quantity. The product should be increased by 10,- € if the value of the\n",
        "order is smaller than 100,00 €.\n",
        "\n",
        "Write a Python program using lambda and map"
      ],
      "metadata": {
        "id": "WOgD6n7ciA1B"
      }
    },
    {
      "cell_type": "code",
      "source": [
        "orders = [\n",
        "    [34587, \"Learning python mark lutz\", 4, 40.95],\n",
        "    [98762, \"Programming pthon mark lutz\", 5, 56.80],\n",
        "    [77226, \"Head first python paul barry\", 3, 32.95],\n",
        "    [88112, \"Einfuhrung in python3 bernd klein\", 3, 24.99]\n",
        "]\n",
        "\n",
        "result = list(map(\n",
        "    lambda orders: (\n",
        "        orders[0],\n",
        "        orders[2] * orders[3] + (10 if order[2] * orders[3] < 100 else 0)\n",
        "    ),\n",
        "    orders\n",
        "))\n",
        "\n",
        "print(result)"
      ],
      "metadata": {
        "id": "FWxfAUQbiDgC"
      },
      "execution_count": null,
      "outputs": []
    },
    {
      "cell_type": "code",
      "source": [],
      "metadata": {
        "id": "DR0lMu8FkHPJ"
      },
      "execution_count": null,
      "outputs": []
    }
  ]
}