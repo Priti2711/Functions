{
  "nbformat": 4,
  "nbformat_minor": 0,
  "metadata": {
    "colab": {
      "provenance": []
    },
    "kernelspec": {
      "name": "python3",
      "display_name": "Python 3"
    },
    "language_info": {
      "name": "python"
    }
  },
  "cells": [
    {
      "cell_type": "code",
      "execution_count": null,
      "metadata": {
        "id": "mhie0_Fwsx9i"
      },
      "outputs": [],
      "source": []
    },
    {
      "cell_type": "markdown",
      "source": [
        "Ques. 1 :  What is Object-Oriented Programming (OOP)?\n",
        "\n",
        "  - Object-Oriented Programming (OOP) is a programming paradigm that structures software design around data (objects) rather than functions and logic. It involves creating objects that contain both data (attributes) and methods (functions) that operate on that data. Key principles of OOP include encapsulation, abstraction, inheritance, and polymorphism.\n",
        "\n",
        "\n",
        "Ques. 2 : What is a class in OOP?\n",
        "\n",
        "  - In object-oriented programming (OOP), a class is a blueprint or template for creating objects. It defines the structure and behavior (attributes and methods) that its objects will have. Think of it as a cookie cutter: the cookie cutter (class) defines the shape (attributes) and how to make the cookie (methods), while the actual cookies (objects) are the instances of that class, each with its own unique properties.\n",
        "\n",
        "Ques. 3 : What is an object in OOP?\n",
        "\n",
        "  - In Object-Oriented Programming (OOP), an object is a fundamental building block representing a specific instance of a class. It encapsulates both data (attributes) and the operations (methods) that can be performed on that data, effectively bringing together the \"what\" and the \"how\" of a program's elements.\n",
        "\n",
        "\n",
        "Ques. 4 : What is the difference between abstraction and encapsulation?\n",
        "\n",
        "  - Abstraction focuses on what an object does (its public interface), while encapsulation focuses on how it does it (its internal implementation). Abstraction hides complexity by exposing only essential features, whereas encapsulation bundles data and methods within a class and controls access to them.\n",
        "\n",
        "\n",
        "Ques. 5 : What are dunder methods in Python?\n",
        "\n",
        "  - Dunder methods, also known as magic methods or special methods, are a core part of Python's object model. They are distinguished by their names, which begin and end with double underscores (e.g., __init__, __str__, __add__).\n",
        "\n",
        "  Operator Overloading: Dunder methods enable custom classes to interact with Python's built-in operators and functions in a meaningful way.\n",
        "\n",
        "  Controlling Object Behavior: They allow you to define how objects are initialized, represented as strings, compared, iterated over, and more.\n",
        "\n",
        "  Integration with Python's Data Model: Dunder methods form the bridge between user-defined classes and Python's fundamental operations, making custom objects feel more like native Python types.\n",
        "\n",
        "\n",
        "Ques. 6 :  Explain the concept of inheritance in OOP.\n",
        "\n",
        "  - Inheritance in object-oriented programming (OOP) is a mechanism where a new class (child or derived class) can inherit properties and methods from an existing class (parent or base class). This promotes code reusability and allows for creating a hierarchical structure of classes, making software development more organized and efficient.\n",
        "\n",
        "\n",
        "Ques. 7 : What is polymorphism in OOP?\n",
        "\n",
        "  - Polymorphism, in object-oriented programming (OOP), is the ability of a variable, function, or object to take on multiple forms. It allows you to write code that can work with objects of different classes in a unified way, making your code more flexible, reusable, and maintainable. In essence, polymorphism means \"many forms,\" and it enables you to treat objects of different types in a consistent manner through a common interface.\n",
        "\n",
        "\n",
        "Ques. 8 : How is encapsulation achieved in Python?\n",
        "\n",
        "  - Encapsulation in Python, an Object-Oriented Programming (OOP) concept, is achieved by bundling data (attributes) and methods that operate on that data within a single unit, typically a class, and controlling access to them. Unlike some other languages, Python does not have strict \"private\" or \"protected\" keywords, but rather relies on naming conventions to indicate intended access levels.\n",
        "\n",
        "\n",
        "Ques. 9 : What is a constructor in Python?\n",
        "\n",
        "  - In Python, a constructor is a special method within a class that is automatically invoked when a new object (instance) of that class is created. Its primary purpose is to initialize the attributes of the object and set up its initial state.\n",
        "\n",
        "\n",
        "Ques. 10 : What are class and static methods in Python?\n",
        "\n",
        "  - Class Methods:\n",
        "\n",
        "  Binding: Bound to the class, not an instance of the class.\n",
        "\n",
        "  Decorator: Declared using the @classmethod decorator.\n",
        "\n",
        "  First Argument: Automatically receive the class itself as their first argument, conventionally named cls.\n",
        "\n",
        "  Access: Can access and modify class-level attributes and call other class methods. They cannot directly access instance-specific attributes.\n",
        "\n",
        "  Use Cases: Often used for factory methods that create instances of the class with specific configurations, or for methods that operate on class-level data.\n",
        "\n",
        "  - Static Methods:\n",
        "\n",
        "  Binding: Not bound to either the class or an instance. They behave like regular functions but are logically grouped within a class's namespace.\n",
        "\n",
        "  Decorator: Declared using the @staticmethod decorator.\n",
        "\n",
        "  Arguments: Do not receive any implicit first argument like self or cls. They take only the arguments explicitly passed to them.\n",
        "\n",
        "  Access: Cannot access or modify class-level or instance-level attributes directly.\n",
        "\n",
        "  Use Cases: Ideal for utility functions that perform a task related to the class but do not depend on the class's state or any instance's state.\n",
        "\n",
        "\n",
        "Ques. 11 : What is method overloading in Python?\n",
        "\n",
        "  - Method overloading in Python refers to the ability to define multiple methods within a single class that share the same name but can handle different numbers or types of arguments. While Python does not support classic method overloading as seen in languages like Java or C++ (where you can define multiple methods with the exact same name but different argument signatures), it provides mechanisms to achieve similar functionality.\n",
        "\n",
        "\n",
        "Ques. 12 : What is method overriding in OOP?\n",
        "\n",
        "  - Method overriding in object-oriented programming is a feature that allows a subclass to provide a specific implementation of a method that is already defined in its parent class. This allows the subclass to customize or extend the behavior of the inherited method, while maintaining the same method name and signature.\n",
        "\n",
        "\n",
        "Ques. 13 : What is a property decorator in Python?\n",
        "\n",
        "  - A property decorator in Python, denoted by @property, is a built-in decorator that transforms a method within a class into an attribute. This allows for controlled access to class attributes, enabling the execution of custom logic when an attribute is read (getter), written to (setter), or deleted (deleter).\n",
        "\n",
        "  Essentially, @property provides a Pythonic way to implement encapsulation, allowing you to manage how an attribute's value is accessed and modified without altering the public interface of the class.\n",
        "\n",
        "\n",
        "Ques. 14 : Why is polymorphism important in OOP?\n",
        "\n",
        "   - Polymorphism in object-oriented programming is crucial because it allows for increased flexibility, code reusability, and maintainability. It enables a single interface to represent different underlying forms or implementations, making the code more adaptable and easier to extend.\n",
        "\n",
        "\n",
        "Ques. 15 : What is an abstract class in Python?\n",
        "\n",
        "  - An abstract class in Python is a class that cannot be instantiated directly and serves as a blueprint or template for other classes. It is designed to be subclassed, and its primary purpose is to define a common interface that all its concrete (non-abstract) subclasses must implement.\n",
        "\n",
        "\n",
        "Ques. 16 : What are the advantages of OOP?\n",
        "\n",
        "  - Object-Oriented Programming (OOP) offers several advantages, including improved code organization, reusability, flexibility, and maintainability. OOP promotes modularity through encapsulation, allowing for easier code management and modification. It also enables code reuse via inheritance and polymorphism, reducing development time and effort. Furthermore, OOP simplifies complex systems and facilitates easier troubleshooting due to its structured approach.\n",
        "\n",
        "\n",
        "Ques. 17 : What is the difference between a class variable and an instance variable?\n",
        "\n",
        "  - Class variables and instance variables differ in their scope and how they are shared among class instances. Class variables are associated with the class itself and are shared by all instances of that class, while instance variables are specific to each individual object (instance) of the class.\n",
        "\n",
        "\n",
        "\n",
        "Ques. 18 : What is multiple inheritance in Python?\n",
        "\n",
        "  - Multiple inheritance in Python is a feature of object-oriented programming where a class can inherit attributes and methods from more than one parent class. This allows a single child class to combine functionalities and characteristics from multiple distinct base classes.\n",
        "\n",
        "\n",
        "\n",
        "Ques. 19 : Explain the purpose of ‘’__str__’ and ‘__repr__’ ‘ methods in Python.\n",
        "\n",
        "  - In Python, __str__ and __repr__ are special methods (often called \"dunder methods\" or \"magic methods\") that define how an object is represented as a string. They serve distinct purposes:\n",
        "\n",
        "  __str__ (for human readability):\n",
        "\n",
        "  This method is intended to return a user-friendly, informal, and readable string representation of an object.\n",
        "\n",
        "  The output should be easily understandable by someone who is not necessarily a programmer and focuses on conveying the object's essential information in a clear format.\n",
        "\n",
        "  __repr__ (for unambiguous representation and debugging):\n",
        "\n",
        "  This method is intended to return an unambiguous, detailed, and formal string representation of an object.\n",
        "\n",
        "  The output should aim to be a valid Python expression that, if evaluated, could recreate the object (or a similar one). It often includes information useful for debugging, such as the object's class name and relevant attribute values.\n",
        "\n",
        "\n",
        "\n",
        "Ques. 20 :  What is the significance of the ‘super()’ function in Python?\n",
        "\n",
        "   - The super() function in Python holds significant importance in object-oriented programming, particularly concerning inheritance. Its primary purpose is to provide access to methods and properties of a parent or superclass from within a child or subclass.\n",
        "\n",
        "\n",
        "Ques. 21 : What is the significance of the __del__ method in Python?\n",
        "\n",
        "   -  The __del__ method in Python, also known as the destructor, is a special method called when an object is about to be garbage collected. Its primary significance lies in its role in resource cleanup.\n",
        "\n",
        "\n",
        "Ques. 22 : What is the difference between @staticmethod and @classmethod in Python?\n",
        "\n",
        "   - @classmethod:\n",
        "\n",
        "   A class method receives the class itself as its first argument, conventionally named cls.\n",
        "\n",
        "   It can access and modify class-level attributes and call other class methods.\n",
        "\n",
        "   Class methods are commonly used for: Factory methods & Operations on class-level data.\n",
        "\n",
        "  - @staticmethod:\n",
        "\n",
        "   A static method does not receive any implicit first argument (neither self for an instance nor cls for the class).\n",
        "\n",
        "   It behaves like a regular function that happens to be defined within a class. It cannot access or modify instance-specific data or class-level attributes unless explicitly passed as arguments.\n",
        "\n",
        "   Static methods are typically used for: Utility functions & Encapsulation.\n",
        "\n",
        "\n",
        "  \n",
        "Ques. 23 : How does polymorphism work in Python with inheritance?\n",
        "\n",
        "   - Polymorphism in Python, when combined with inheritance, primarily manifests through method overriding. This allows objects of different classes, related through inheritance, to respond to the same method call in a way specific to their own class.\n",
        "\n",
        "\n",
        "Ques. 24 : What is method chaining in Python OOP?\n",
        "\n",
        "  - Method chaining in Python Object-Oriented Programming (OOP) is a technique that allows multiple methods to be called sequentially on the same object in a single line of code. This is achieved by having each method return the instance of the object itself (self) after performing its operation.\n",
        "\n",
        "\n",
        "Ques. 25 : What is the purpose of the __call__ method in Python?\n",
        "\n",
        "  - The __call__ method in Python serves the purpose of making instances of a class callable, meaning they can be treated and invoked like functions. When an object that has a __call__ method defined is called using parentheses (e.g., object_instance()), the __call__ method of that object is automatically executed.\n"
      ],
      "metadata": {
        "id": "YchEor6YttxE"
      }
    },
    {
      "cell_type": "code",
      "source": [],
      "metadata": {
        "id": "-Oj7TJlmpYTt"
      },
      "execution_count": null,
      "outputs": []
    },
    {
      "cell_type": "markdown",
      "source": [
        "#Practical Questions"
      ],
      "metadata": {
        "id": "xaWtzEFrpaXQ"
      }
    },
    {
      "cell_type": "code",
      "source": [
        "#Ques. 1 : Create a parent class Animal with a method speak() that prints a generic message. Create a child class Dog\n",
        "that overrides the speak() method to print \"Bark!\".\n",
        "\n",
        "  class Animal:\n",
        "  def speak(self):\n",
        "    print(\"Generic animal sound\")\n",
        "\n",
        "class Dog(Animal):\n",
        "  def speak(self):\n",
        "    print(\"Bark!\")"
      ],
      "metadata": {
        "colab": {
          "base_uri": "https://localhost:8080/",
          "height": 108
        },
        "id": "OmBgKhzRpfBa",
        "outputId": "faecc2ad-1fd2-4e7c-ded1-a6bee30000dc"
      },
      "execution_count": 3,
      "outputs": [
        {
          "output_type": "error",
          "ename": "SyntaxError",
          "evalue": "invalid syntax (ipython-input-3-3781701943.py, line 2)",
          "traceback": [
            "\u001b[0;36m  File \u001b[0;32m\"/tmp/ipython-input-3-3781701943.py\"\u001b[0;36m, line \u001b[0;32m2\u001b[0m\n\u001b[0;31m    that overrides the speak() method to print \"Bark!\".\u001b[0m\n\u001b[0m         ^\u001b[0m\n\u001b[0;31mSyntaxError\u001b[0m\u001b[0;31m:\u001b[0m invalid syntax\n"
          ]
        }
      ]
    },
    {
      "cell_type": "code",
      "source": [
        "#Ques. 2 : Write a program to create an abstract class Shape with a method area(). Derive classes Circle and Rectangle\n",
        "from it and implement the area() method in both.\n"
      ],
      "metadata": {
        "id": "Xitfp0LfqA5l"
      },
      "execution_count": null,
      "outputs": []
    },
    {
      "cell_type": "code",
      "source": [
        "# Abstract class\n",
        "class Shape(ABC)\n",
        "    @abstractmethod\n",
        "    def area(self):\n",
        "        pass\n",
        "\n",
        "# Derived class Circle\n",
        "class Circle(Shape):\n",
        "    def __init__(self, radius):\n",
        "        self.radius = radius\n",
        "\n",
        "    def area(self):\n",
        "        return math.pi * self.radius ** 2\n",
        "\n",
        "# Derived class Rectangle\n",
        "class Rectangle(Shape):\n",
        "    def __init__(self, width, height):\n",
        "        self.width = width\n",
        "        self.height = height\n",
        "\n",
        "    def area(self):\n",
        "        return self.width * self.height\n",
        "\n",
        "# Example usage\n",
        "circle = Circle(5)\n",
        "rectangle = Rectangle(4, 6)\n",
        "\n",
        "print(f\"Area of Circle: {circle.area():.2f}\")\n",
        "print(f\"Area of Rectangle: {rectangle.area()}\")"
      ],
      "metadata": {
        "id": "KgPEppp9toKT"
      },
      "execution_count": null,
      "outputs": []
    },
    {
      "cell_type": "code",
      "source": [
        "#Ques. 3 : Implement a multi-level inheritance scenario where a class Vehicle has an attribute type. Derive a class Car\n",
        "and further derive a class ElectricCar that adds a battery attribute."
      ],
      "metadata": {
        "id": "9-OHWDNuuQI-"
      },
      "execution_count": null,
      "outputs": []
    },
    {
      "cell_type": "code",
      "source": [
        "# Base class\n",
        "class Vehicle:\n",
        "    def __init__(self, vehicle_type):\n",
        "        self.vehicle_type = vehicle_type\n",
        "\n",
        "    def display_info(self):\n",
        "        print(f\"Vehicle Type: {self.vehicle_type}\")\n",
        "\n",
        "# Derived class from Vehicle\n",
        "class Car(Vehicle):\n",
        "    def __init__(self, vehicle_type, brand):\n",
        "        super().__init__(vehicle_type)\n",
        "        self.brand = brand\n",
        "\n",
        "    def display_info(self):\n",
        "        super().display_info()\n",
        "        print(f\"Brand: {self.brand}\")\n",
        "\n",
        "# Further derived class from Car\n",
        "class ElectricCar(Car):\n",
        "    def __init__(self, vehicle_type, brand, battery_capacity):\n",
        "        super().__init__(vehicle_type, brand)\n",
        "        self.battery_capacity = battery_capacity\n",
        "\n",
        "    def display_info(self):\n",
        "        super().display_info()\n",
        "        print(f\"Battery Capacity: {self.battery_capacity} kWh\")\n",
        "\n",
        "# Example usage\n",
        "tesla = ElectricCar(\"Four Wheeler\", \"Tesla\", 85)\n",
        "tesla.display_info()"
      ],
      "metadata": {
        "colab": {
          "base_uri": "https://localhost:8080/"
        },
        "id": "_QgbKJkPvC2A",
        "outputId": "08f5193e-2862-48db-b416-29b9f7d44080"
      },
      "execution_count": 8,
      "outputs": [
        {
          "output_type": "stream",
          "name": "stdout",
          "text": [
            "Vehicle Type: Four Wheeler\n",
            "Brand: Tesla\n",
            "Battery Capacity: 85 kWh\n"
          ]
        }
      ]
    },
    {
      "cell_type": "code",
      "source": [
        "#Ques. 4 : Demonstrate polymorphism by creating a base class Bird with a method fly(). Create two derived classes\n",
        "Sparrow and Penguin that override the fly() method."
      ],
      "metadata": {
        "id": "f6hW1afwvT1M"
      },
      "execution_count": null,
      "outputs": []
    },
    {
      "cell_type": "code",
      "source": [
        "# Base class\n",
        "class Bird:\n",
        "    def fly(self):\n",
        "        print(\"This bird can fly.\")\n",
        "\n",
        "# Derived class Sparrow\n",
        "class Sparrow(Bird):\n",
        "    def fly(self):\n",
        "        print(\"Sparrow flies high in the sky.\")\n",
        "\n",
        "# Derived class Penguin\n",
        "class Penguin(Bird):\n",
        "    def fly(self):\n",
        "        print(\"Penguins cannot fly, they swim instead.\")\n",
        "\n",
        "# Function to demonstrate polymorphism\n",
        "def make_bird_fly(bird):\n",
        "    bird.fly()\n",
        "\n",
        "# Create instances of Sparrow and Penguin\n",
        "bird1 = Sparrow()\n",
        "bird2 = Penguin()\n",
        "\n",
        "# Demonstrate polymorphism\n",
        "make_bird_fly(bird1)  # Output: Sparrow flies high in the sky.\n",
        "make_bird_fly(bird2)  # Output: Penguins cannot fly, they swim instead."
      ],
      "metadata": {
        "colab": {
          "base_uri": "https://localhost:8080/"
        },
        "id": "CQM7BIKrve6C",
        "outputId": "15d667c2-635d-489d-921d-2d9aa3fb13c1"
      },
      "execution_count": 11,
      "outputs": [
        {
          "output_type": "stream",
          "name": "stdout",
          "text": [
            "Sparrow flies high in the sky.\n",
            "Penguins cannot fly, they swim instead.\n"
          ]
        }
      ]
    },
    {
      "cell_type": "code",
      "source": [
        "#Ques. 5 : Write a program to demonstrate encapsulation by creating a class BankAccount with private attributes\n",
        "balance and methods to deposit, withdraw, and check balance."
      ],
      "metadata": {
        "id": "5qXWgogzwQGP"
      },
      "execution_count": null,
      "outputs": []
    },
    {
      "cell_type": "code",
      "source": [
        "class BankAccount:\n",
        "    def __init__(self, initial_balance=0):\n",
        "        # Private attribute\n",
        "        self.__balance = initial_balance\n",
        "\n",
        "    # Public method to deposit money\n",
        "    def deposit(self, amount):\n",
        "        if amount > 0:\n",
        "            self.__balance += amount\n",
        "            print(f\"Deposited: ${amount}\")\n",
        "        else:\n",
        "            print(\"Invalid deposit amount.\")\n",
        "\n",
        "    # Public method to withdraw money\n",
        "    def withdraw(self, amount):\n",
        "        if 0 < amount <= self.__balance:\n",
        "            self.__balance -= amount\n",
        "            print(f\"Withdrawn: ${amount}\")\n",
        "        else:\n",
        "            print(\"Insufficient funds or invalid withdrawal amount.\")\n",
        "\n",
        "    # Public method to check balance\n",
        "    def check_balance(self):\n",
        "        print(f\"Current balance: ${self.__balance}\")\n",
        "\n",
        "\n",
        "# Example usage\n",
        "account = BankAccount(100)  # Initial balance = $100\n",
        "account.check_balance()\n",
        "account.deposit(50)\n",
        "account.withdraw(30)\n",
        "account.check_balance()"
      ],
      "metadata": {
        "colab": {
          "base_uri": "https://localhost:8080/"
        },
        "id": "oyhZfrNfwDth",
        "outputId": "6d7c4ca5-636c-4e97-b7bb-ce1e05be14db"
      },
      "execution_count": 12,
      "outputs": [
        {
          "output_type": "stream",
          "name": "stdout",
          "text": [
            "Current balance: $100\n",
            "Deposited: $50\n",
            "Withdrawn: $30\n",
            "Current balance: $120\n"
          ]
        }
      ]
    },
    {
      "cell_type": "code",
      "source": [
        "#Ques. 6 : Demonstrate runtime polymorphism using a method play() in a base class Instrument. Derive classes Guitar\n",
        "and Piano that implement their own version of play()."
      ],
      "metadata": {
        "id": "-SNQ-hdUwtK2"
      },
      "execution_count": null,
      "outputs": []
    },
    {
      "cell_type": "code",
      "source": [
        "# Base class\n",
        "class Instrument:\n",
        "    def play(self):\n",
        "        print(\"Playing an instrument\")\n",
        "\n",
        "# Derived class 1\n",
        "class Guitar(Instrument):\n",
        "    def play(self):\n",
        "        print(\"Strumming the guitar\")\n",
        "\n",
        "# Derived class 2\n",
        "class Piano(Instrument):\n",
        "    def play(self):\n",
        "        print(\"Playing the piano\")\n",
        "\n",
        "# Function that demonstrates runtime polymorphism\n",
        "def start_playing(instrument):\n",
        "    instrument.play()\n",
        "\n",
        "# Example usage\n",
        "instruments = [Guitar(), Piano()]\n",
        "\n",
        "for inst in instruments:\n",
        "    start_playing(inst)"
      ],
      "metadata": {
        "colab": {
          "base_uri": "https://localhost:8080/"
        },
        "id": "FQ41HAAfw4a0",
        "outputId": "777cb750-45b5-422d-b676-8a9cc7ab01b1"
      },
      "execution_count": 13,
      "outputs": [
        {
          "output_type": "stream",
          "name": "stdout",
          "text": [
            "Strumming the guitar\n",
            "Playing the piano\n"
          ]
        }
      ]
    },
    {
      "cell_type": "code",
      "source": [],
      "metadata": {
        "id": "obGY5CRgxDoB"
      },
      "execution_count": null,
      "outputs": []
    },
    {
      "cell_type": "markdown",
      "source": [
        "Ques. 7 : Create a class MathOperations with a class method add_numbers() to add two numbers and a static\n",
        "method subtract_numbers() to subtract two numbers."
      ],
      "metadata": {
        "id": "87ASiy9hxEk8"
      }
    },
    {
      "cell_type": "code",
      "source": [
        "class MathOperations:\n",
        "    @classmethod\n",
        "    def add_numbers(cls, num1, num2):\n",
        "        return num1 + num2\n",
        "\n",
        "    @staticmethod\n",
        "    def subtract_numbers(num1, num2):\n",
        "        return num1 - num2\n",
        "\n",
        "# Example usage:\n",
        "result_add = MathOperations.add_numbers(10, 5)\n",
        "result_subtract = MathOperations.subtract_numbers(10, 5)\n",
        "\n",
        "print(f\"Addition result: {result_add}\")\n",
        "print(f\"Subtraction result: {result_subtract}\")"
      ],
      "metadata": {
        "colab": {
          "base_uri": "https://localhost:8080/"
        },
        "id": "_YpA_4GmxuLI",
        "outputId": "7d8f9e82-dd83-436f-90dd-13e0757b4906"
      },
      "execution_count": 14,
      "outputs": [
        {
          "output_type": "stream",
          "name": "stdout",
          "text": [
            "Addition result: 15\n",
            "Subtraction result: 5\n"
          ]
        }
      ]
    },
    {
      "cell_type": "code",
      "source": [],
      "metadata": {
        "id": "hYQzu2LuxtH3"
      },
      "execution_count": null,
      "outputs": []
    },
    {
      "cell_type": "markdown",
      "source": [
        "Ques. 8 :  Implement a class Person with a class method to count the total number of persons created."
      ],
      "metadata": {
        "id": "JthGRF3Yx-mE"
      }
    },
    {
      "cell_type": "code",
      "source": [
        "class Person:\n",
        "    # Class variable to keep count of Person instances\n",
        "    person_count = 0\n",
        "\n",
        "    def __init__(self, name):\n",
        "        self.name = name\n",
        "        Person.person_count += 1\n",
        "\n",
        "    @classmethod\n",
        "    def get_person_count(cls):\n",
        "        return cls.person_count\n",
        "\n",
        "\n",
        "# Example usage:\n",
        "p1 = Person(\"Alice\")\n",
        "p2 = Person(\"Bob\")\n",
        "p3 = Person(\"Charlie\")\n",
        "\n",
        "print(\"Total persons created:\", Person.get_person_count())"
      ],
      "metadata": {
        "colab": {
          "base_uri": "https://localhost:8080/"
        },
        "id": "qmX-z3EQyFek",
        "outputId": "411575bc-7d4f-424c-a31b-0973fd65a0b7"
      },
      "execution_count": 15,
      "outputs": [
        {
          "output_type": "stream",
          "name": "stdout",
          "text": [
            "Total persons created: 3\n"
          ]
        }
      ]
    },
    {
      "cell_type": "code",
      "source": [],
      "metadata": {
        "id": "QTaipNfxyUj8"
      },
      "execution_count": null,
      "outputs": []
    },
    {
      "cell_type": "markdown",
      "source": [
        "Ques. 9 : Write a class Fraction with attributes numerator and denominator. Override the str method to display the\n",
        "fraction as \"numerator/denominator\"."
      ],
      "metadata": {
        "id": "C7efp3zGyY3V"
      }
    },
    {
      "cell_type": "code",
      "source": [
        "class Fraction:\n",
        "    def __init__(self, numerator, denominator):\n",
        "        self.numerator = numerator\n",
        "        self.denominator = denominator\n",
        "\n",
        "    def __str__(self):\n",
        "        return f\"{self.numerator}/{self.denominator}\"\n",
        "\n",
        "# Example usage\n",
        "f = Fraction(3, 4)\n",
        "print(f)  # Output: 3/4"
      ],
      "metadata": {
        "colab": {
          "base_uri": "https://localhost:8080/"
        },
        "id": "5ifL3jbbybkf",
        "outputId": "bbe2ef8b-1e22-4d71-a841-50073354bacd"
      },
      "execution_count": 16,
      "outputs": [
        {
          "output_type": "stream",
          "name": "stdout",
          "text": [
            "3/4\n"
          ]
        }
      ]
    },
    {
      "cell_type": "markdown",
      "source": [
        "Ques. 10 :  Demonstrate operator overloading by creating a class Vector and overriding the add method to add two\n",
        "vectors."
      ],
      "metadata": {
        "id": "9aMkUcJX0Rt1"
      }
    },
    {
      "cell_type": "code",
      "source": [
        "class Vector:\n",
        "    def __init__(self, x, y):\n",
        "        self.x = x\n",
        "        self.y = y\n",
        "\n",
        "    def __add__(self, other):\n",
        "        # Overloading the + operator\n",
        "        return Vector(self.x + other.x, self.y + other.y)\n",
        "\n",
        "    def __str__(self):\n",
        "        return f\"Vector({self.x}, {self.y})\"\n",
        "\n",
        "# Example usage\n",
        "v1 = Vector(2, 3)\n",
        "v2 = Vector(4, 5)\n",
        "\n",
        "v3 = v1 + v2"
      ],
      "metadata": {
        "id": "19GbQnOx0JPE"
      },
      "execution_count": 19,
      "outputs": []
    },
    {
      "cell_type": "code",
      "source": [],
      "metadata": {
        "id": "dfJ59tC40g5-"
      },
      "execution_count": null,
      "outputs": []
    },
    {
      "cell_type": "markdown",
      "source": [
        "Ques. 11 : Create a class Person with attributes name and age. Add a method greet() that prints \"Hello, my name is\n",
        "{name} and I am {age} years old.\""
      ],
      "metadata": {
        "id": "Tr2JwW0Q0t2J"
      }
    },
    {
      "cell_type": "code",
      "source": [
        "class Person:\n",
        "    def __init__(self, name, age):\n",
        "        self.name = name\n",
        "        self.age = age\n",
        "\n",
        "    def greet(self):\n",
        "        print(f\"Hello, my name is {self.name} and I am {self.age} years old.\")\n",
        "\n",
        "# Example usage\n",
        "person1 = Person(\"Alice\", 30)\n",
        "person1.greet()"
      ],
      "metadata": {
        "colab": {
          "base_uri": "https://localhost:8080/"
        },
        "id": "fVRFwNH00yEF",
        "outputId": "e80917cb-7ce9-499f-d685-7171197e0b53"
      },
      "execution_count": 20,
      "outputs": [
        {
          "output_type": "stream",
          "name": "stdout",
          "text": [
            "Hello, my name is Alice and I am 30 years old.\n"
          ]
        }
      ]
    },
    {
      "cell_type": "code",
      "source": [],
      "metadata": {
        "id": "a8XM0_kh09rv"
      },
      "execution_count": null,
      "outputs": []
    },
    {
      "cell_type": "markdown",
      "source": [
        "Ques. 12 :  Implement a class Student with attributes name and grades. Create a method average_grade() to compute\n",
        "the average of the grades."
      ],
      "metadata": {
        "id": "-wz3gUYy1E2j"
      }
    },
    {
      "cell_type": "code",
      "source": [
        "class Student:\n",
        "    def __init__(self, name, grades):\n",
        "        self.name = name\n",
        "        self.grades = grades  # list of grades\n",
        "\n",
        "    def average_grade(self):\n",
        "        if not self.grades:\n",
        "            return 0\n",
        "        return sum(self.grades) / len(self.grades)\n",
        "\n",
        "# Example usage\n",
        "student1 = Student(\"Alice\", [85, 90, 78, 92])\n",
        "print(f\"{student1.name}'s average grade is {student1.average_grade():.2f}\")"
      ],
      "metadata": {
        "colab": {
          "base_uri": "https://localhost:8080/"
        },
        "id": "8uhO-3hj1IpL",
        "outputId": "2f6449b3-59da-43f4-ce96-4ed4e99e9737"
      },
      "execution_count": 21,
      "outputs": [
        {
          "output_type": "stream",
          "name": "stdout",
          "text": [
            "Alice's average grade is 86.25\n"
          ]
        }
      ]
    },
    {
      "cell_type": "markdown",
      "source": [
        "Ques. 13 : Create a class Rectangle with methods set_dimensions() to set the dimensions and area() to calculate the\n",
        "area."
      ],
      "metadata": {
        "id": "uN7ic2rx12-d"
      }
    },
    {
      "cell_type": "code",
      "source": [
        "class Rectangle:\n",
        "    def __init__(self):\n",
        "        self.length = 0\n",
        "        self.width = 0\n",
        "\n",
        "    def set_dimensions(self, length, width):\n",
        "        self.length = length\n",
        "        self.width = width\n",
        "\n",
        "    def area(self):\n",
        "        return self.length * self.width\n",
        "\n",
        "# Example usage\n",
        "rect = Rectangle()\n",
        "rect.set_dimensions(5, 3)\n",
        "print(\"Area of rectangle:\", rect.area())"
      ],
      "metadata": {
        "colab": {
          "base_uri": "https://localhost:8080/"
        },
        "id": "3K4jJvPS1tHP",
        "outputId": "d60a0dd1-4742-441b-f225-74c41f246efe"
      },
      "execution_count": 23,
      "outputs": [
        {
          "output_type": "stream",
          "name": "stdout",
          "text": [
            "Area of rectangle: 15\n"
          ]
        }
      ]
    },
    {
      "cell_type": "code",
      "source": [],
      "metadata": {
        "id": "7HUUxrTl2RbZ"
      },
      "execution_count": null,
      "outputs": []
    },
    {
      "cell_type": "markdown",
      "source": [
        "Ques. 14 :  Create a class Employee with a method calculate_salary() that computes the salary based on hours worked\n",
        "and hourly rate. Create a derived class Manager that adds a bonus to the salary."
      ],
      "metadata": {
        "id": "WprIYV4D2hAX"
      }
    },
    {
      "cell_type": "code",
      "source": [
        "class Employee:\n",
        "    def __init__(self, name, hours_worked, hourly_rate):\n",
        "        self.name = name\n",
        "        self.hours_worked = hours_worked\n",
        "        self.hourly_rate = hourly_rate\n",
        "\n",
        "    def calculate_salary(self):\n",
        "        return self.hours_worked * self.hourly_rate\n",
        "\n",
        "\n",
        "# Derived class\n",
        "class Manager(Employee):\n",
        "    def __init__(self, name, hours_worked, hourly_rate, bonus):\n",
        "        super().__init__(name, hours_worked, hourly_rate)\n",
        "        self.bonus = bonus\n",
        "\n",
        "    def calculate_salary(self):\n",
        "        base_salary = super().calculate_salary()\n",
        "        return base_salary + self.bonus\n",
        "\n",
        "\n",
        "# Example usage\n",
        "emp = Employee(\"Alice\", 40, 25)\n",
        "print(f\"{emp.name}'s Salary: ${emp.calculate_salary()}\")\n",
        "\n",
        "mgr = Manager(\"Bob\", 40, 30, 500)\n",
        "print(f\"{mgr.name}'s Salary: ${mgr.calculate_salary()}\")"
      ],
      "metadata": {
        "colab": {
          "base_uri": "https://localhost:8080/"
        },
        "id": "9egQsEqN2jVV",
        "outputId": "1bbc0a95-93ad-4b05-d0fd-70dd4839617c"
      },
      "execution_count": 24,
      "outputs": [
        {
          "output_type": "stream",
          "name": "stdout",
          "text": [
            "Alice's Salary: $1000\n",
            "Bob's Salary: $1700\n"
          ]
        }
      ]
    },
    {
      "cell_type": "code",
      "source": [],
      "metadata": {
        "id": "9DE6_VOn20UW"
      },
      "execution_count": null,
      "outputs": []
    },
    {
      "cell_type": "markdown",
      "source": [
        "Ques. 15 :  Create a class Product with attributes name, price, and quantity. Implement a method total_price() that\n",
        "calculates the total price of the product."
      ],
      "metadata": {
        "id": "-_lhB0KX3G2G"
      }
    },
    {
      "cell_type": "code",
      "source": [
        "class Product:\n",
        "    def __init__(self, name, price, quantity):\n",
        "        self.name = name\n",
        "        self.price = price\n",
        "        self.quantity = quantity\n",
        "\n",
        "    def total_price(self):\n",
        "        return self.price * self.quantity\n",
        "\n",
        "# Example usage\n",
        "product = Product(\"Laptop\", 50000, 2)\n",
        "print(f\"Total price for {product.name}: ₹{product.total_price()}\")"
      ],
      "metadata": {
        "colab": {
          "base_uri": "https://localhost:8080/"
        },
        "id": "QP96Wkuh3JUF",
        "outputId": "b6fee196-2c9e-4705-8a70-6f6488a9a260"
      },
      "execution_count": 25,
      "outputs": [
        {
          "output_type": "stream",
          "name": "stdout",
          "text": [
            "Total price for Laptop: ₹100000\n"
          ]
        }
      ]
    },
    {
      "cell_type": "code",
      "source": [],
      "metadata": {
        "id": "U6WjfV7V3dTC"
      },
      "execution_count": null,
      "outputs": []
    },
    {
      "cell_type": "markdown",
      "source": [
        "Ques. 16 : Create a class Animal with an abstract method sound(). Create two derived classes Cow and Sheep that\n",
        "implement the sound() method."
      ],
      "metadata": {
        "id": "pytkEyFv3fp7"
      }
    },
    {
      "cell_type": "code",
      "source": [
        "from abc import ABC, abstractmethod\n",
        "\n",
        "# Abstract class\n",
        "class Animal(ABC):\n",
        "    @abstractmethod\n",
        "    def sound(self):\n",
        "        pass\n",
        "\n",
        "# Derived class Cow\n",
        "class Cow(Animal):\n",
        "    def sound(self):\n",
        "        return \"Moo\"\n",
        "\n",
        "# Derived class Sheep\n",
        "class Sheep(Animal):\n",
        "    def sound(self):\n",
        "        return \"Baa\"\n",
        "\n",
        "# Example usage\n",
        "cow = Cow()\n",
        "sheep = Sheep()\n",
        "\n",
        "print(f\"Cow sound: {cow.sound()}\")\n",
        "print(f\"Sheep sound: {sheep.sound()}\")"
      ],
      "metadata": {
        "colab": {
          "base_uri": "https://localhost:8080/"
        },
        "id": "3uRhkzXu3rDK",
        "outputId": "04acd736-86d5-45a4-bc8c-2e0c53c22843"
      },
      "execution_count": 26,
      "outputs": [
        {
          "output_type": "stream",
          "name": "stdout",
          "text": [
            "Cow sound: Moo\n",
            "Sheep sound: Baa\n"
          ]
        }
      ]
    },
    {
      "cell_type": "code",
      "source": [],
      "metadata": {
        "id": "vv2Y1s3c3xvj"
      },
      "execution_count": null,
      "outputs": []
    },
    {
      "cell_type": "markdown",
      "source": [
        "Ques. 17 : Create a class Book with attributes title, author, and year_published. Add a method get_book_info() that\n",
        "returns a formatted string with the book's details."
      ],
      "metadata": {
        "id": "GGs--MSJ35bF"
      }
    },
    {
      "cell_type": "code",
      "source": [
        "class Book:\n",
        "    def __init__(self, title, author, year_published):\n",
        "        self.title = title\n",
        "        self.author = author\n",
        "        self.year_published = year_published\n",
        "\n",
        "    def get_book_info(self):\n",
        "        return f\"'{self.title}' by {self.author}, published in {self.year_published}.\"\n",
        "\n",
        "book1 = Book(\"To Kill a Mockingbird\", \"Harper Lee\", 1960)\n",
        "print(book1.get_book_info())"
      ],
      "metadata": {
        "colab": {
          "base_uri": "https://localhost:8080/"
        },
        "id": "Z7XZNFXH39aR",
        "outputId": "dea9fd5f-c74d-470c-e93b-3421c9ef49f5"
      },
      "execution_count": 27,
      "outputs": [
        {
          "output_type": "stream",
          "name": "stdout",
          "text": [
            "'To Kill a Mockingbird' by Harper Lee, published in 1960.\n"
          ]
        }
      ]
    },
    {
      "cell_type": "code",
      "source": [],
      "metadata": {
        "id": "00XhZT-I4Mz4"
      },
      "execution_count": null,
      "outputs": []
    },
    {
      "cell_type": "markdown",
      "source": [
        "Ques. 18 : Create a class House with attributes address and price. Create a derived class Mansion that adds an\n",
        "attribute number_of_rooms."
      ],
      "metadata": {
        "id": "6GdZRsKs4Sg7"
      }
    },
    {
      "cell_type": "code",
      "source": [
        "# Base class\n",
        "class House:\n",
        "    def __init__(self, address, price):\n",
        "        self.address = address\n",
        "        self.price = price\n",
        "\n",
        "    def get_info(self):\n",
        "        return f\"Address: {self.address}, Price: ${self.price}\"\n",
        "\n",
        "# Derived class\n",
        "class Mansion(House):\n",
        "    def __init__(self, address, price, number_of_rooms):\n",
        "        super().__init__(address, price)\n",
        "        self.number_of_rooms = number_of_rooms\n",
        "\n",
        "    def get_info(self):\n",
        "        base_info = super().get_info()\n",
        "        return f\"{base_info}, Number of Rooms: {self.number_of_rooms}\"\n",
        "\n",
        "# Example usage\n",
        "m = Mansion(\"123 Luxury St\", 5000000, 12)\n",
        "print(m.get_info())\n"
      ],
      "metadata": {
        "colab": {
          "base_uri": "https://localhost:8080/"
        },
        "id": "3BxqIhfi4U_x",
        "outputId": "04bbf357-8545-46ed-f601-7d0aed7d77ec"
      },
      "execution_count": 28,
      "outputs": [
        {
          "output_type": "stream",
          "name": "stdout",
          "text": [
            "Address: 123 Luxury St, Price: $5000000, Number of Rooms: 12\n"
          ]
        }
      ]
    },
    {
      "cell_type": "code",
      "source": [],
      "metadata": {
        "id": "3VJKUCyz4aro"
      },
      "execution_count": null,
      "outputs": []
    }
  ]
}